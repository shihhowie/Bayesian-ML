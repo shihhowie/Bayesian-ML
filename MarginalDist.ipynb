{
 "cells": [
  {
   "cell_type": "code",
   "execution_count": 1,
   "metadata": {},
   "outputs": [],
   "source": [
    "import autograd.numpy as np\n",
    "from autograd import grad\n",
    "import scipy as sc\n",
    "import pandas as pd\n",
    "import scipy.io as sio\n",
    "import matplotlib.pyplot as plt\n",
    "\n",
    "%matplotlib inline\n",
    "\n",
    "import seaborn as sns\n",
    "import math\n",
    "from scipy import optimize\n"
   ]
  },
  {
   "cell_type": "code",
   "execution_count": 4,
   "metadata": {},
   "outputs": [],
   "source": [
    "oc1 = sio.loadmat('occam1.mat')\n",
    "oc2 = sio.loadmat('occam2.mat')\n",
    "D1=np.array([oc1['x'].T[0],oc1['y'].T[0]])\n",
    "D2=np.array([oc2['x'].T[0],oc2['y'].T[0]])"
   ]
  },
  {
   "cell_type": "code",
   "execution_count": 5,
   "metadata": {},
   "outputs": [],
   "source": [
    "#construct design matrices\n",
    "def phi_1(x, z=None):\n",
    "    return(np.array([x**0,x,x**2,x**3,x**4,x**5]).T)\n",
    "def phi_2(x, z):\n",
    "    return(np.array([np.exp(-(x-1)**2/z[0]**2), np.exp(-(x-5)**2/z[1]**2)]).T)\n",
    "def phi_3(x, z=None):\n",
    "    return(np.array([x,np.cos(2*x)]).T)\n",
    "\n",
    "phi11 = phi_1(D1[0])\n",
    "phi12 = phi_2(D1[0],z=[1,1])\n",
    "phi13 = phi_3(D1[0])\n",
    "phi21 = phi_1(D2[0])\n",
    "phi22 = phi_2(D2[0],z=[1,1])\n",
    "phi23 = phi_3(D2[0])\n",
    "x1 = D1[0]\n",
    "x2 = D2[0]\n",
    "y1 = D1[1]\n",
    "y2 = D2[1]\n",
    "z = [1.0,1.0]"
   ]
  },
  {
   "cell_type": "code",
   "execution_count": 6,
   "metadata": {},
   "outputs": [],
   "source": [
    "def gradphi(phi,x,z):\n",
    "    dphidz1 = np.array([np.multiply((2*(x-1)**2)/(z[0]**3), phi[:,0]), np.zeros(len(x))]).T\n",
    "    dphidz2 = np.array([np.zeros(len(x)), np.multiply((2*(x-5)**2)/(z[1]**3), phi[:,1])]).T\n",
    "    return(np.array([dphidz1,dphidz2]))\n",
    "\n",
    "class model():\n",
    "    def __init__(self, x, y, phifunc, z=None):\n",
    "        self.x = x\n",
    "        self.y = y\n",
    "        self.phifunc = phifunc\n",
    "        self.z = z \n",
    "    \n",
    "    def fastgrad(self, params):\n",
    "        loga2 = params[0]\n",
    "        logsig2 = params[1]\n",
    "        a2 = np.exp(loga2)\n",
    "        sig2 = np.exp(logsig2)\n",
    "        if(self.z!=None):\n",
    "            self.z = [params[2], params[3]]\n",
    "        phi = self.phifunc(self.x, self.z)\n",
    "        y = self.y\n",
    "        x = self.x\n",
    "        n = len(self.y)\n",
    "        p = phi.shape[1]\n",
    "        sigmap = a2/sig2 * np.dot(phi.T, phi)+np.identity(p)\n",
    "        invsp = np.linalg.inv(sigmap)\n",
    "        #gradient for a2\n",
    "        tracea = 1/sig2*np.trace(np.dot(phi.T, phi))-\\\n",
    "            a2/sig2**2*np.trace(np.dot(phi.T, np.dot(phi, np.dot(invsp, np.dot(phi.T, phi)))))\n",
    "        ysppsy = 1/sig2**2*np.dot(y.T, np.dot(phi, np.dot(phi.T, y)))-\\\n",
    "            2*a2/(sig2**3)*np.dot(y.T, np.dot(phi, np.dot(phi.T, np.dot(phi, np.dot(invsp, np.dot(phi.T, y))))))+\\\n",
    "            a2**2/(sig2**4)*np.dot(y.T, np.dot(phi, np.dot(invsp, np.dot(phi.T, np.dot(phi, np.dot(phi.T, np.dot(phi, np.dot(invsp, np.dot(phi.T, y)))))))))\n",
    "        dlda2 = -1/2*(ysppsy-tracea)*a2\n",
    "        #gradient for sigma2\n",
    "        traces = 1/sig2*np.trace(np.identity(n))-a2/sig2**2*np.trace(np.dot(phi.T,np.dot(phi, invsp)))\n",
    "        yssy = 1/sig2**2*np.dot(y.T, y)-2*a2/(sig2**3)*np.dot(y.T, np.dot(phi, np.dot(invsp, np.dot(phi.T, y))))+\\\n",
    "             a2**2/(sig2**4)*np.dot(y.T, np.dot(phi, np.dot(invsp, np.dot(phi.T, np.dot(phi, np.dot(invsp, np.dot(phi.T, y)))))))\n",
    "        dlds2 = -1/2*(yssy-traces)*sig2\n",
    "        gradients = [dlda2, dlds2]\n",
    "        #gradient for z\n",
    "        dldz = np.zeros(len(z))\n",
    "        if(self.z!=None):\n",
    "            dldz = np.zeros(len(self.z))\n",
    "            dphidz = gradphi(phi, x, z)\n",
    "            for i in range(len(self.z)):\n",
    "                trace = 1/sig2*np.trace(np.dot(phi.T, dphidz[i]))-\\\n",
    "                    a2/sig2**2*np.trace(np.dot(phi.T, np.dot(phi, np.dot(invsp, np.dot(phi.T, dphidz[0])))))\n",
    "                trace *=2\n",
    "                yspppsy = 1/sig2**2*np.dot(y.T, np.dot(dphidz[i], np.dot(phi.T, y)))-\\\n",
    "                     a2/sig2**3*np.dot(y.T, np.dot(dphidz[i], np.dot(phi.T, np.dot(phi, np.dot(invsp, np.dot(phi.T, y))))))-\\\n",
    "                     a2/sig2**3*np.dot(y.T, np.dot(phi, np.dot(invsp, np.dot(phi.T, np.dot(dphidz[i], np.dot(phi.T, y))))))+\\\n",
    "                     a2**2/sig2**4*np.dot(y.T, np.dot(phi, np.dot(invsp, np.dot(phi.T, np.dot(dphidz[i], np.dot(phi.T, np.dot(phi, np.dot(invsp, np.dot(phi.T, y)))))))))\n",
    "                yspppsy *= 2\n",
    "                dldz[i] = a2/2*(yspppsy-trace)\n",
    "                gradients.append(dldz[i])\n",
    "        return np.array(gradients)\n",
    "    \n",
    "    def fastlogmarg(self, params):\n",
    "        loga2 = params[0]\n",
    "        logsig2 = params[1]\n",
    "        a2 = np.exp(loga2)\n",
    "        sig2 = np.exp(logsig2)\n",
    "        y = self.y\n",
    "        if(self.z!=None):\n",
    "            self.z = [params[2], params[3]]\n",
    "        phi = self.phifunc(self.x, self.z)\n",
    "        n = len(self.y)\n",
    "        p = phi.shape[1]\n",
    "        sigmap = a2/sig2*np.dot(phi.T, phi)+np.identity(p)\n",
    "        detsp = np.linalg.det(sigmap)\n",
    "        invsp = np.linalg.inv(sigmap)\n",
    "        exponent = 1/(2*sig2)*np.dot(y.T, y)-a2/(2*sig2**2)*np.dot(y.T, np.dot(phi, np.dot(invsp, np.dot(phi.T, y))))\n",
    "        logmarg = -n/2*np.log(2*math.pi)-n/2*np.log(sig2)-1/2*np.log(detsp)-exponent\n",
    "        return(-logmarg)\n",
    "    "
   ]
  },
  {
   "cell_type": "code",
   "execution_count": 35,
   "metadata": {},
   "outputs": [
    {
     "name": "stdout",
     "output_type": "stream",
     "text": [
      "4500.85844857\n",
      "[ -2.52645086e+02  -4.21587130e+03  -3.24823358e+00   1.94750620e+02]\n"
     ]
    }
   ],
   "source": [
    "tes = model(x1, y1, phi_2, [1.0, 1.0])\n",
    "print(tes.fastlogmarg([np.log(4), np.log(4), 1.0, 1.0]))\n",
    "print(tes.fastgrad([np.log(4), np.log(4), 1.0, 1.0]))"
   ]
  },
  {
   "cell_type": "code",
   "execution_count": 7,
   "metadata": {},
   "outputs": [
    {
     "name": "stdout",
     "output_type": "stream",
     "text": [
      "[-51.98325562   7.88311054] [-32.52751328   7.88311057] [-9.14829846  7.88311157]\n"
     ]
    },
    {
     "data": {
      "text/plain": [
       "<BarContainer object of 3 artists>"
      ]
     },
     "execution_count": 7,
     "metadata": {},
     "output_type": "execute_result"
    },
    {
     "data": {
      "image/png": "[encoded data removed]",
      "text/plain": [
       "<Figure size 432x288 with 1 Axes>"
      ]
     },
     "metadata": {},
     "output_type": "display_data"
    }
   ],
   "source": [
    "model1 = model(x1, y1, phi_1)\n",
    "model2 = model(x1, y1, phi_2, [1.0, 1.0])\n",
    "model3 = model(x1, y1, phi_3)\n",
    "loghyperparameters = [0.5,1.0]\n",
    "hyperparameters2 = [1.0, 1.0, 1.0, 1.0]\n",
    "model1opt = optimize.minimize(model1.fastlogmarg, x0=loghyperparameters, method=\"BFGS\", jac=model1.fastgrad, options={'maxiter':400})\n",
    "model2opt = optimize.minimize(model2.fastlogmarg, x0=hyperparameters2, method=\"BFGS\", jac=model2.fastgrad, options={'maxiter':400})\n",
    "model3opt = optimize.minimize(model3.fastlogmarg, x0=loghyperparameters, method=\"BFGS\", jac=model3.fastgrad, options={'maxiter':400})\n",
    "\n",
    "logmargres = [model1opt.fun, model2opt.fun, model3opt.fun]\n",
    "print(model1opt.x, model2opt.x[0:2], model3opt.x)\n",
    "x = [\"model1\", \"model2\", \"model3\"]\n",
    "plt.bar(x, logmargres/np.sum(logmargres))"
   ]
  },
  {
   "cell_type": "code",
   "execution_count": 39,
   "metadata": {},
   "outputs": [
    {
     "name": "stdout",
     "output_type": "stream",
     "text": [
      "[  2.65435455e-23   2.65210924e+03]\n",
      "[  7.47275035e-15   2.65210932e+03   1.98445483e-08   1.61398110e+21]\n",
      "[  2.65435455e-23   2.65210924e+03]\n"
     ]
    }
   ],
   "source": [
    "print(np.exp(model1opt.x))\n",
    "print(np.exp(model2opt.x))\n",
    "print(np.exp(model1opt.x))"
   ]
  },
  {
   "cell_type": "code",
   "execution_count": 8,
   "metadata": {},
   "outputs": [
    {
     "data": {
      "text/plain": [
       "<BarContainer object of 3 artists>"
      ]
     },
     "execution_count": 8,
     "metadata": {},
     "output_type": "execute_result"
    },
    {
     "data": {
      "image/png": "[encoded data removed]",
      "text/plain": [
       "<Figure size 432x288 with 1 Axes>"
      ]
     },
     "metadata": {},
     "output_type": "display_data"
    }
   ],
   "source": [
    "model1b = model(x2, y2, phi_1)\n",
    "model2b = model(x2, y2, phi_2, [1.0, 1.0])\n",
    "model3b = model(x2, y2, phi_3)\n",
    "\n",
    "model1bopt = optimize.minimize(model1b.fastlogmarg, x0=loghyperparameters, method=\"Nelder-Mead\")\n",
    "model2bopt = optimize.minimize(model2b.fastlogmarg, x0=hyperparameters2, method=\"Nelder-Mead\")\n",
    "model3bopt = optimize.minimize(model3b.fastlogmarg, x0=loghyperparameters, method=\"Nelder-Mead\")\n",
    "\n",
    "logmargres2 = [model1bopt.fun, model2bopt.fun, model3bopt.fun]\n",
    "plt.bar(x, logmargres2/np.sum(logmargres2))"
   ]
  },
  {
   "cell_type": "code",
   "execution_count": 38,
   "metadata": {},
   "outputs": [
    {
     "name": "stdout",
     "output_type": "stream",
     "text": [
      "[   22.58504929  2515.23002219]\n",
      "[  1.36469243e+01   2.51744798e+03   3.52043834e-01              inf]\n",
      "[   22.58504929  2515.23002219]\n"
     ]
    },
    {
     "name": "stderr",
     "output_type": "stream",
     "text": [
      "/anaconda3/lib/python3.6/site-packages/autograd/core.py:163: RuntimeWarning: overflow encountered in exp\n",
      "  result = self.fun(*argvals, **kwargs)\n"
     ]
    }
   ],
   "source": [
    "print(np.exp(model1bopt.x))\n",
    "print(np.exp(model2bopt.x))\n",
    "print(np.exp(model1bopt.x))\n"
   ]
  },
  {
   "cell_type": "markdown",
   "metadata": {},
   "source": [
    "Calculating posterior mean of the weights for D2"
   ]
  },
  {
   "cell_type": "code",
   "execution_count": 24,
   "metadata": {},
   "outputs": [
    {
     "name": "stdout",
     "output_type": "stream",
     "text": [
      "posterior mean: [  4.26865845e+00  -9.08897524e+00   5.32988237e+00  -1.16468722e+00\n",
      "   1.06161091e-01  -3.33802248e-03]\n",
      "posterior variance: [  7.59268406e-01   2.93219334e+00   1.14110083e+00   7.49884499e-02\n",
      "   9.30397461e-04   1.50032894e-06]\n"
     ]
    }
   ],
   "source": [
    "a2h, sig2h = np.exp(model1bopt.x)\n",
    "p1 = 6\n",
    "invpostcov = 1/a2h*np.identity(p1)+1/sig2h*np.dot(phi21.T, phi21)\n",
    "postcov = np.linalg.inv(invpostcov)\n",
    "postvar = np.diagonal(postcov)\n",
    "postmean = (1/sig2h)*np.dot(postcov, np.dot(phi21.T, y2))\n",
    "print(\"posterior mean:\", postmean)\n",
    "print(\"posterior variance:\", postvar)"
   ]
  },
  {
   "cell_type": "code",
   "execution_count": 30,
   "metadata": {},
   "outputs": [
    {
     "name": "stdout",
     "output_type": "stream",
     "text": [
      "posterior mean: [-4.41511651  2.7436875 ]\n",
      "posterior variance: [ 0.24782484  0.032301  ]\n"
     ]
    }
   ],
   "source": [
    "a2h, sig2h = np.exp(model2bopt.x[0:2])\n",
    "p2 = 2\n",
    "phi22 = phi_2(x2, model2bopt.x[2:4])\n",
    "invpostcov = 1/a2h*np.identity(p2)+1/sig2h*np.dot(phi22.T, phi22)\n",
    "postcov = np.linalg.inv(invpostcov)\n",
    "postvar = np.diagonal(postcov)\n",
    "postmean = (1/sig2h)*np.dot(postcov, np.dot(phi22.T, y2))\n",
    "print(\"posterior mean:\", postmean)\n",
    "print(\"posterior variance:\", postvar)"
   ]
  },
  {
   "cell_type": "code",
   "execution_count": 31,
   "metadata": {},
   "outputs": [
    {
     "name": "stdout",
     "output_type": "stream",
     "text": [
      "posterior mean: [ 0.35261133  4.86124578]\n",
      "posterior variance: [ 0.0007664  0.0498949]\n"
     ]
    }
   ],
   "source": [
    "a2h, sig2h = np.exp(model1bopt.x)\n",
    "p3 = 2\n",
    "invpostcov = 1/a2h*np.identity(p3)+1/sig2h*np.dot(phi23.T, phi23)\n",
    "postcov = np.linalg.inv(invpostcov)\n",
    "postvar = np.diagonal(postcov)\n",
    "postmean = (1/sig2h)*np.dot(postcov, np.dot(phi23.T, y2))\n",
    "print(\"posterior mean:\", postmean)\n",
    "print(\"posterior variance:\", postvar)"
   ]
  },
  {
   "cell_type": "code",
   "execution_count": null,
   "metadata": {},
   "outputs": [],
   "source": []
  }
 ],
 "metadata": {
  "kernelspec": {
   "display_name": "Python 3",
   "language": "python",
   "name": "python3"
  },
  "language_info": {
   "codemirror_mode": {
    "name": "ipython",
    "version": 3
   },
   "file_extension": ".py",
   "mimetype": "text/x-python",
   "name": "python",
   "nbconvert_exporter": "python",
   "pygments_lexer": "ipython3",
   "version": "3.6.7"
  }
 },
 "nbformat": 4,
 "nbformat_minor": 2
}
